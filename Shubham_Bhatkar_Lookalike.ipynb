{
 "cells": [
  {
   "cell_type": "markdown",
   "metadata": {},
   "source": [
    "**Lookalike Model**"
   ]
  },
  {
   "cell_type": "markdown",
   "metadata": {},
   "source": [
    "Importing Libraries"
   ]
  },
  {
   "cell_type": "code",
   "execution_count": 1,
   "metadata": {},
   "outputs": [],
   "source": [
    "import pandas as pd\n",
    "from sklearn.metrics.pairwise import cosine_similarity\n",
    "from sklearn.preprocessing import StandardScaler"
   ]
  },
  {
   "cell_type": "markdown",
   "metadata": {},
   "source": [
    "Load data"
   ]
  },
  {
   "cell_type": "code",
   "execution_count": 17,
   "metadata": {},
   "outputs": [
    {
     "name": "stdout",
     "output_type": "stream",
     "text": [
      "Customers Data:\n",
      "   CustomerID        CustomerName         Region  SignupDate\n",
      "0      C0001    Lawrence Carroll  South America  2022-07-10\n",
      "1      C0002      Elizabeth Lutz           Asia  2022-02-13\n",
      "2      C0003      Michael Rivera  South America  2024-03-07\n",
      "3      C0004  Kathleen Rodriguez  South America  2022-10-09\n",
      "4      C0005         Laura Weber           Asia  2022-08-15\n",
      "\n",
      "Products Data:\n",
      "   ProductID              ProductName     Category   Price\n",
      "0      P001     ActiveWear Biography        Books  169.30\n",
      "1      P002    ActiveWear Smartwatch  Electronics  346.30\n",
      "2      P003  ComfortLiving Biography        Books   44.12\n",
      "3      P004            BookWorld Rug   Home Decor   95.69\n",
      "4      P005          TechPro T-Shirt     Clothing  429.31\n",
      "\n",
      "Transactions Data:\n",
      "   TransactionID CustomerID ProductID      TransactionDate  Quantity  \\\n",
      "0        T00001      C0199      P067  2024-08-25 12:38:23         1   \n",
      "1        T00112      C0146      P067  2024-05-27 22:23:54         1   \n",
      "2        T00166      C0127      P067  2024-04-25 07:38:55         1   \n",
      "3        T00272      C0087      P067  2024-03-26 22:55:37         2   \n",
      "4        T00363      C0070      P067  2024-03-21 15:10:10         3   \n",
      "\n",
      "   TotalValue   Price  \n",
      "0      300.68  300.68  \n",
      "1      300.68  300.68  \n",
      "2      300.68  300.68  \n",
      "3      601.36  300.68  \n",
      "4      902.04  300.68  \n"
     ]
    }
   ],
   "source": [
    "customers = pd.read_csv(\"Customers.csv\")\n",
    "products = pd.read_csv(\"Products.csv\")\n",
    "transactions = pd.read_csv(\"Transactions.csv\")\n",
    "\n",
    "print(\"Customers Data:\\n\", customers.head())\n",
    "print(\"\\nProducts Data:\\n\", products.head())\n",
    "print(\"\\nTransactions Data:\\n\", transactions.head())"
   ]
  },
  {
   "cell_type": "code",
   "execution_count": 3,
   "metadata": {},
   "outputs": [
    {
     "name": "stdout",
     "output_type": "stream",
     "text": [
      "<class 'pandas.core.frame.DataFrame'>\n",
      "<class 'pandas.core.frame.DataFrame'>\n"
     ]
    }
   ],
   "source": [
    "\n",
    "# print(type(transactions))  \n",
    "# print(type(customers)) "
   ]
  },
  {
   "cell_type": "markdown",
   "metadata": {},
   "source": [
    "Data Cleaning"
   ]
  },
  {
   "cell_type": "code",
   "execution_count": 14,
   "metadata": {},
   "outputs": [
    {
     "name": "stdout",
     "output_type": "stream",
     "text": [
      "Missing values in Customers Data:\n",
      " CustomerID      0\n",
      "CustomerName    0\n",
      "Region          0\n",
      "SignupDate      0\n",
      "dtype: int64\n",
      "Missing values in Products Data:\n",
      " ProductID      0\n",
      "ProductName    0\n",
      "Category       0\n",
      "Price          0\n",
      "dtype: int64\n",
      "Missing values in Transactions Data:\n",
      " TransactionID      0\n",
      "CustomerID         0\n",
      "ProductID          0\n",
      "TransactionDate    0\n",
      "Quantity           0\n",
      "TotalValue         0\n",
      "Price              0\n",
      "dtype: int64\n"
     ]
    }
   ],
   "source": [
    "# print(\"Missing values in Customers Data:\\n\", customers.isnull().sum())\n",
    "# print(\"Missing values in Products Data:\\n\", products.isnull().sum())\n",
    "# print(\"Missing values in Transactions Data:\\n\", transactions.isnull().sum())\n",
    "\n",
    "# # Converting to datetime format\n",
    "# customers['SignupDate'] = pd.to_datetime(customers['SignupDate'])\n",
    "# transactions['TransactionDate'] = pd.to_datetime(transactions['TransactionDate'])\n",
    "\n",
    "# # print(customers.dtypes)\n",
    "# # print(transactions.dtypes)\n",
    "\n",
    "# # Remove duplicates if any\n",
    "# customers = customers.drop_duplicates(inplace=True)\n",
    "# products = products.drop_duplicates(inplace=True)\n",
    "# transactions = transactions.drop_duplicates(inplace=True)\n"
   ]
  },
  {
   "cell_type": "markdown",
   "metadata": {},
   "source": [
    "Merging Data"
   ]
  },
  {
   "cell_type": "code",
   "execution_count": 18,
   "metadata": {},
   "outputs": [],
   "source": [
    "merged_df = pd.merge(transactions, customers, on='CustomerID')\n",
    "merged_df = pd.merge(merged_df, products, on='ProductID')"
   ]
  },
  {
   "cell_type": "code",
   "execution_count": 19,
   "metadata": {},
   "outputs": [
    {
     "data": {
      "text/html": [
       "<div>\n",
       "<style scoped>\n",
       "    .dataframe tbody tr th:only-of-type {\n",
       "        vertical-align: middle;\n",
       "    }\n",
       "\n",
       "    .dataframe tbody tr th {\n",
       "        vertical-align: top;\n",
       "    }\n",
       "\n",
       "    .dataframe thead th {\n",
       "        text-align: right;\n",
       "    }\n",
       "</style>\n",
       "<table border=\"1\" class=\"dataframe\">\n",
       "  <thead>\n",
       "    <tr style=\"text-align: right;\">\n",
       "      <th></th>\n",
       "      <th>CustomerID</th>\n",
       "      <th>Lookalikes</th>\n",
       "    </tr>\n",
       "  </thead>\n",
       "  <tbody>\n",
       "    <tr>\n",
       "      <th>0</th>\n",
       "      <td>C0001</td>\n",
       "      <td>[{'CustomerID': 'C0137', 'Score': 0.9963323425...</td>\n",
       "    </tr>\n",
       "    <tr>\n",
       "      <th>1</th>\n",
       "      <td>C0002</td>\n",
       "      <td>[{'CustomerID': 'C0029', 'Score': 0.9997577919...</td>\n",
       "    </tr>\n",
       "    <tr>\n",
       "      <th>2</th>\n",
       "      <td>C0003</td>\n",
       "      <td>[{'CustomerID': 'C0178', 'Score': 0.9999491872...</td>\n",
       "    </tr>\n",
       "    <tr>\n",
       "      <th>3</th>\n",
       "      <td>C0004</td>\n",
       "      <td>[{'CustomerID': 'C0021', 'Score': 0.9999029227...</td>\n",
       "    </tr>\n",
       "    <tr>\n",
       "      <th>4</th>\n",
       "      <td>C0005</td>\n",
       "      <td>[{'CustomerID': 'C0073', 'Score': 0.9999664651...</td>\n",
       "    </tr>\n",
       "  </tbody>\n",
       "</table>\n",
       "</div>"
      ],
      "text/plain": [
       "  CustomerID                                         Lookalikes\n",
       "0      C0001  [{'CustomerID': 'C0137', 'Score': 0.9963323425...\n",
       "1      C0002  [{'CustomerID': 'C0029', 'Score': 0.9997577919...\n",
       "2      C0003  [{'CustomerID': 'C0178', 'Score': 0.9999491872...\n",
       "3      C0004  [{'CustomerID': 'C0021', 'Score': 0.9999029227...\n",
       "4      C0005  [{'CustomerID': 'C0073', 'Score': 0.9999664651..."
      ]
     },
     "execution_count": 19,
     "metadata": {},
     "output_type": "execute_result"
    }
   ],
   "source": [
    "# total spend for each customer\n",
    "customer_spend = merged_df.groupby('CustomerID').agg(\n",
    "    total_spent=('TotalValue', 'sum'),\n",
    "    num_transactions=('TransactionID', 'count'),\n",
    "    num_products=('ProductID', 'nunique')\n",
    ").reset_index()\n",
    "\n",
    "\n",
    "customers_features = pd.merge(customers, customer_spend, on='CustomerID')\n",
    "\n",
    "scaler = StandardScaler()\n",
    "features = customers_features[['total_spent', 'num_transactions', 'num_products']]\n",
    "scaled_features = scaler.fit_transform(features)\n",
    "\n",
    "# cosine similarity\n",
    "cos_sim = cosine_similarity(scaled_features)\n",
    "\n",
    "# function top 3 lookalikes for each customer\n",
    "def get_top_3_lookalikes(cos_sim, customers_features):\n",
    "    lookalikes = {}\n",
    "    for i, row in enumerate(cos_sim[:20]):  \n",
    "        similar_customers = list(enumerate(row))\n",
    "        similar_customers = sorted(similar_customers, key=lambda x: x[1], reverse=True)\n",
    "       \n",
    "        similar_customers = [cust for cust in similar_customers if cust[0] != i][:3]\n",
    "        \n",
    "        #dict\n",
    "        lookalikes[customers_features['CustomerID'][i]] = [\n",
    "            {'CustomerID': customers_features['CustomerID'][cust[0]], 'Score': cust[1]}\n",
    "            for cust in similar_customers\n",
    "        ]\n",
    "    return lookalikes\n",
    "\n",
    "# top 3\n",
    "lookalike_results = get_top_3_lookalikes(cos_sim, customers_features)\n",
    "\n",
    "# df\n",
    "lookalike_df = pd.DataFrame([\n",
    "    {'CustomerID': cust_id, 'Lookalikes': str(lookalikes)}\n",
    "    for cust_id, lookalikes in lookalike_results.items()\n",
    "])\n",
    "\n",
    "#CSV file\n",
    "lookalike_df.to_csv('Lookalike.csv', index=False)\n",
    "\n",
    "lookalike_df.head()"
   ]
  }
 ],
 "metadata": {
  "kernelspec": {
   "display_name": "Python 3",
   "language": "python",
   "name": "python3"
  },
  "language_info": {
   "codemirror_mode": {
    "name": "ipython",
    "version": 3
   },
   "file_extension": ".py",
   "mimetype": "text/x-python",
   "name": "python",
   "nbconvert_exporter": "python",
   "pygments_lexer": "ipython3",
   "version": "3.12.3"
  }
 },
 "nbformat": 4,
 "nbformat_minor": 2
}
